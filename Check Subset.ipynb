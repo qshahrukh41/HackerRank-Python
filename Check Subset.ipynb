{
 "cells": [
  {
   "cell_type": "code",
   "execution_count": null,
   "metadata": {},
   "outputs": [],
   "source": [
    "t = int(input(''))\n",
    "for i in range(t):\n",
    "    n_A = int(input(''))\n",
    "    A = set(list(map(int,input('').strip().split()))[:n_A])\n",
    "    n_B = int(input(''))\n",
    "    B = set(list(map(int,input('').strip().split()))[:n_B])\n",
    "    print(A.issubset(B))"
   ]
  }
 ],
 "metadata": {
  "kernelspec": {
   "display_name": "Python 3",
   "language": "python",
   "name": "python3"
  },
  "language_info": {
   "codemirror_mode": {
    "name": "ipython",
    "version": 3
   },
   "file_extension": ".py",
   "mimetype": "text/x-python",
   "name": "python",
   "nbconvert_exporter": "python",
   "pygments_lexer": "ipython3",
   "version": "3.7.6"
  }
 },
 "nbformat": 4,
 "nbformat_minor": 4
}

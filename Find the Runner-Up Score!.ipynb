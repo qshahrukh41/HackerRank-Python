{
 "cells": [
  {
   "cell_type": "code",
   "execution_count": null,
   "metadata": {},
   "outputs": [],
   "source": [
    "n = int(input(''))\n",
    "A = list(map(int,input('').strip().split()))[:n]\n",
    "A.sort()\n",
    "A = list(set(A))\n",
    "l=len(A)\n",
    "A.sort()\n",
    "if(l==1): \n",
    "    print(A[0])\n",
    "else:\n",
    "    print(A[l-2])"
   ]
  }
 ],
 "metadata": {
  "kernelspec": {
   "display_name": "Python 3",
   "language": "python",
   "name": "python3"
  },
  "language_info": {
   "codemirror_mode": {
    "name": "ipython",
    "version": 3
   },
   "file_extension": ".py",
   "mimetype": "text/x-python",
   "name": "python",
   "nbconvert_exporter": "python",
   "pygments_lexer": "ipython3",
   "version": "3.7.6"
  }
 },
 "nbformat": 4,
 "nbformat_minor": 4
}

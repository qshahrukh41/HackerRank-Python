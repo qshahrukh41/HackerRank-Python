{
 "cells": [
  {
   "cell_type": "code",
   "execution_count": null,
   "metadata": {},
   "outputs": [],
   "source": [
    "n = int(input())\n",
    "captain = {}\n",
    "input_from_user = input() #which is a string '1 2 3 4 5'\n",
    "numbers = input_from_user.split()\n",
    "for i in numbers:\n",
    "    if i in captain:\n",
    "        captain[i] += 1\n",
    "    else:\n",
    "        captain.update({i:1})\n",
    "\n",
    "for i in numbers:\n",
    "    if (captain[i]==1):\n",
    "        print(i)\n",
    "        break"
   ]
  },
  {
   "cell_type": "code",
   "execution_count": null,
   "metadata": {},
   "outputs": [],
   "source": []
  }
 ],
 "metadata": {
  "kernelspec": {
   "display_name": "Python 3",
   "language": "python",
   "name": "python3"
  },
  "language_info": {
   "codemirror_mode": {
    "name": "ipython",
    "version": 3
   },
   "file_extension": ".py",
   "mimetype": "text/x-python",
   "name": "python",
   "nbconvert_exporter": "python",
   "pygments_lexer": "ipython3",
   "version": "3.7.6"
  }
 },
 "nbformat": 4,
 "nbformat_minor": 4
}
